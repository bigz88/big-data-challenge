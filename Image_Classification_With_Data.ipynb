{
 "cells": [
  {
   "cell_type": "code",
   "execution_count": 1,
   "id": "81564f64-5d43-453e-a5fd-04b154a0a3a7",
   "metadata": {},
   "outputs": [],
   "source": [
    "# imports\n",
    "from nibabel.testing import data_path\n",
    "import numpy as np\n",
    "import tensorflow as tf\n",
    "from keras import applications\n",
    "import nibabel as nib\n",
    "import keras\n",
    "import os\n",
    "import pandas as pd\n",
    "import re\n",
    "import math"
   ]
  },
  {
   "cell_type": "code",
   "execution_count": 2,
   "id": "3eb377f9-031f-4ab2-b9af-03f2a3adc34e",
   "metadata": {},
   "outputs": [],
   "source": [
    "# enable GPU\n",
    "config = tf.compat.v1.ConfigProto( device_count = {'GPU': 1 , 'CPU': 56} ) \n",
    "sess = tf.compat.v1.Session(config=config) \n",
    "keras.backend.set_session(sess)"
   ]
  },
  {
   "cell_type": "code",
   "execution_count": 3,
   "id": "f8ade24e-bd1f-42a6-bc74-8ff6b07846f5",
   "metadata": {},
   "outputs": [
    {
     "name": "stdout",
     "output_type": "stream",
     "text": [
      "[name: \"/device:CPU:0\"\n",
      "device_type: \"CPU\"\n",
      "memory_limit: 268435456\n",
      "locality {\n",
      "}\n",
      "incarnation: 13206649871423337673\n",
      "xla_global_id: -1\n",
      "]\n"
     ]
    }
   ],
   "source": [
    "from tensorflow.python.client import device_lib \n",
    "print(device_lib.list_local_devices())"
   ]
  },
  {
   "cell_type": "code",
   "execution_count": 4,
   "id": "11589cf3-52f1-449a-a8fc-5e820eab157b",
   "metadata": {},
   "outputs": [],
   "source": [
    "# import keras required libs.\n",
    "import matplotlib.pyplot as plt\n",
    "import glob\n",
    "from keras.losses import categorical_crossentropy\n",
    "from keras.models import Sequential, Model \n",
    "from keras.layers import Dense, Conv2D, Dropout, Flatten, MaxPooling2D\n",
    "from keras import layers\n",
    "from sklearn.model_selection import train_test_split"
   ]
  },
  {
   "cell_type": "code",
   "execution_count": 5,
   "id": "127035b4-86c9-4f5d-a99d-f148827491b2",
   "metadata": {},
   "outputs": [],
   "source": [
    "# bringing in dataframes\n",
    "df = pd.read_csv('OASIS4_data_clinical.csv')\n",
    "neuro = pd.read_csv('OASIS4_data_Neuropsychometric.csv')"
   ]
  },
  {
   "cell_type": "code",
   "execution_count": 6,
   "id": "2c2c98c5-d250-4ffa-9755-7c724b21d91e",
   "metadata": {},
   "outputs": [],
   "source": [
    "neuro = neuro[['oasis_id','short_blessed']]\n",
    "for i in range(len(neuro['oasis_id'])):\n",
    "    if isinstance(neuro['short_blessed'][i], str):\n",
    "        if (neuro['short_blessed'][i].isnumeric()):\n",
    "            neuro.at[i,'short_blessed']=int(neuro['short_blessed'][i])\n",
    "        else:\n",
    "            neuro = neuro.drop(labels=i, axis=0)\n",
    "    elif math.isnan(neuro['short_blessed'][i]):\n",
    "        neuro = neuro.drop(labels=i, axis=0)\n",
    "neuro = neuro.reset_index(drop=True)\n",
    "for i in range(len(neuro['oasis_id'])-1):\n",
    "    if neuro['oasis_id'][i] == neuro['oasis_id'][i+1]:\n",
    "        neuro = neuro.drop(labels=i, axis=0)\n",
    "neuro = neuro.reset_index(drop=True)\n",
    "#for i in range(len(neuro['oasis_id'])):\n",
    "#    if "
   ]
  },
  {
   "cell_type": "code",
   "execution_count": 7,
   "id": "d7c84482-3f0e-45c0-99ad-179c6fd7826e",
   "metadata": {},
   "outputs": [],
   "source": [
    "# Regex\n",
    "pattern = r\"\\d{5}\""
   ]
  },
  {
   "cell_type": "code",
   "execution_count": 8,
   "id": "62e36f77-1113-4750-9ceb-7d104b5dce11",
   "metadata": {},
   "outputs": [
    {
     "name": "stdout",
     "output_type": "stream",
     "text": [
      "131\n"
     ]
    }
   ],
   "source": [
    "# fetch the files we need.\n",
    "filename_list = []\n",
    "for name in glob.glob('./NIIs only TEST/*.nii.gz'):\n",
    "    filename_list.append(name)\n",
    "# Dealing with missing images/ clinical entries\n",
    "x=0\n",
    "while x < len(filename_list):\n",
    "    if \"run-01\" in filename_list[x] or \"run-03\" in filename_list[x] or \"run-04\" in filename_list[x] or \"run-05\" in filename_list[x]:\n",
    "        os.remove(filename_list[x])\n",
    "        filename_list.pop(x)\n",
    "    x+=1\n",
    "print(x)"
   ]
  },
  {
   "cell_type": "code",
   "execution_count": 9,
   "id": "c45a7727-097d-4525-8f63-bb9af829d68e",
   "metadata": {},
   "outputs": [
    {
     "name": "stdout",
     "output_type": "stream",
     "text": [
      "131\n"
     ]
    }
   ],
   "source": [
    "x=0\n",
    "while x < len(filename_list):\n",
    "    match = re.search(pattern, filename_list[x])\n",
    "    file_num = match.group(0)\n",
    "    match = re.search(pattern, df['oasis_id'][x])\n",
    "    clinical_num = match.group(0)\n",
    "    if (int(file_num) < int(clinical_num)):\n",
    "        os.remove(filename_list[x])\n",
    "        filename_list.pop(x)\n",
    "    elif (int(file_num) > int(clinical_num)):\n",
    "        df = df.drop(labels=x, axis=0)\n",
    "        df = df.reset_index(drop=True)\n",
    "    x+=1\n",
    "print(x)"
   ]
  },
  {
   "cell_type": "code",
   "execution_count": 10,
   "id": "62aaffe4-6437-41aa-831c-49ba09509759",
   "metadata": {},
   "outputs": [
    {
     "name": "stdout",
     "output_type": "stream",
     "text": [
      "525\n"
     ]
    }
   ],
   "source": [
    "# test if worked. if it prints anything then it didnt work.\n",
    "for x in range(len(filename_list)):\n",
    "    if df['oasis_id'][x] in filename_list[x]:\n",
    "        df = df.drop(labels=x, axis=0)\n",
    "        neuro = neuro.drop(labels=x, axis=0)\n",
    "    else:\n",
    "        print(x)\n",
    "        print(df['oasis_id'][x])\n",
    "        print(filename_list[x])\n",
    "        break\n",
    "print(len(neuro['oasis_id']))\n"
   ]
  },
  {
   "cell_type": "code",
   "execution_count": 11,
   "id": "aa1d4cf9-f4f5-4a34-9082-c189522c4695",
   "metadata": {},
   "outputs": [],
   "source": [
    "# test if worked. if it prints anything then it didnt work.\n",
    "x=0\n",
    "df = df.reset_index(drop=True)\n",
    "neuro = neuro.reset_index(drop=True)\n",
    "while x < (len(df['oasis_id'])) and x < len(neuro['oasis_id']):\n",
    "    match = re.search(pattern, neuro['oasis_id'][x])\n",
    "    neuro_num = match.group(0)\n",
    "    match = re.search(pattern, df['oasis_id'][x])\n",
    "    clinical_num = match.group(0)\n",
    "    if (int(neuro_num) < int(clinical_num)):\n",
    "        neuro = neuro.drop(labels=x, axis=0)\n",
    "        neuro = neuro.reset_index(drop=True)\n",
    "    elif (int(neuro_num) > int(clinical_num)):\n",
    "        df = df.drop(labels=x, axis=0)\n",
    "        df = df.reset_index(drop=True)\n",
    "    x+=1\n",
    "\n",
    "for i in range(len(df['oasis_id'])):\n",
    "    if df['oasis_id'][i] == neuro['oasis_id'][i]:\n",
    "        continue\n",
    "    else:\n",
    "        print(i)\n",
    "        print(df['oasis_id'][i])\n",
    "        break\n"
   ]
  },
  {
   "cell_type": "code",
   "execution_count": 12,
   "id": "236c3e1e-6b48-4ec0-9627-daec2c0d2ba9",
   "metadata": {},
   "outputs": [
    {
     "name": "stdout",
     "output_type": "stream",
     "text": [
      "131\n",
      "131\n"
     ]
    },
    {
     "data": {
      "text/html": [
       "<div>\n",
       "<style scoped>\n",
       "    .dataframe tbody tr th:only-of-type {\n",
       "        vertical-align: middle;\n",
       "    }\n",
       "\n",
       "    .dataframe tbody tr th {\n",
       "        vertical-align: top;\n",
       "    }\n",
       "\n",
       "    .dataframe thead th {\n",
       "        text-align: right;\n",
       "    }\n",
       "</style>\n",
       "<table border=\"1\" class=\"dataframe\">\n",
       "  <thead>\n",
       "    <tr style=\"text-align: right;\">\n",
       "      <th></th>\n",
       "      <th>oasis_id</th>\n",
       "      <th>demographics_id</th>\n",
       "      <th>demographics_firstvisit</th>\n",
       "      <th>sex</th>\n",
       "      <th>age</th>\n",
       "      <th>edu</th>\n",
       "      <th>race</th>\n",
       "      <th>hispanic</th>\n",
       "      <th>marriage</th>\n",
       "      <th>declong</th>\n",
       "      <th>...</th>\n",
       "      <th>health_history4</th>\n",
       "      <th>health_history5</th>\n",
       "      <th>health_history6</th>\n",
       "      <th>health_history7</th>\n",
       "      <th>health_history10</th>\n",
       "      <th>health_history11</th>\n",
       "      <th>health_history12</th>\n",
       "      <th>final_dx</th>\n",
       "      <th>final_dx_categorized</th>\n",
       "      <th>image_path</th>\n",
       "    </tr>\n",
       "  </thead>\n",
       "  <tbody>\n",
       "    <tr>\n",
       "      <th>0</th>\n",
       "      <td>OAS42151</td>\n",
       "      <td>OAS42151_demographics_d3000</td>\n",
       "      <td>0</td>\n",
       "      <td>1</td>\n",
       "      <td>75</td>\n",
       "      <td>2</td>\n",
       "      <td>1</td>\n",
       "      <td>0</td>\n",
       "      <td>1</td>\n",
       "      <td>3.0</td>\n",
       "      <td>...</td>\n",
       "      <td>0</td>\n",
       "      <td>0</td>\n",
       "      <td>0</td>\n",
       "      <td>0</td>\n",
       "      <td>0</td>\n",
       "      <td>0</td>\n",
       "      <td>0</td>\n",
       "      <td>Alzheimer Disease Dementia</td>\n",
       "      <td>1</td>\n",
       "      <td>./NIIs only TEST\\sub-OAS42000_sess-d3016_T2w.n...</td>\n",
       "    </tr>\n",
       "    <tr>\n",
       "      <th>1</th>\n",
       "      <td>OAS42152</td>\n",
       "      <td>OAS42152_demographics_d3000</td>\n",
       "      <td>0</td>\n",
       "      <td>2</td>\n",
       "      <td>68</td>\n",
       "      <td>3</td>\n",
       "      <td>1</td>\n",
       "      <td>0</td>\n",
       "      <td>1</td>\n",
       "      <td>1.0</td>\n",
       "      <td>...</td>\n",
       "      <td>0</td>\n",
       "      <td>0</td>\n",
       "      <td>0</td>\n",
       "      <td>0</td>\n",
       "      <td>0</td>\n",
       "      <td>0</td>\n",
       "      <td>0</td>\n",
       "      <td>Alzheimer Disease Dementia</td>\n",
       "      <td>1</td>\n",
       "      <td>./NIIs only TEST\\sub-OAS42001_sess-d3006_T2w.n...</td>\n",
       "    </tr>\n",
       "    <tr>\n",
       "      <th>2</th>\n",
       "      <td>OAS42153</td>\n",
       "      <td>OAS42153_demographics_d3000</td>\n",
       "      <td>0</td>\n",
       "      <td>1</td>\n",
       "      <td>76</td>\n",
       "      <td>3</td>\n",
       "      <td>1</td>\n",
       "      <td>0</td>\n",
       "      <td>1</td>\n",
       "      <td>25.0</td>\n",
       "      <td>...</td>\n",
       "      <td>0</td>\n",
       "      <td>0</td>\n",
       "      <td>0</td>\n",
       "      <td>0</td>\n",
       "      <td>0</td>\n",
       "      <td>0</td>\n",
       "      <td>0</td>\n",
       "      <td>Uncertain - AD possible</td>\n",
       "      <td>8</td>\n",
       "      <td>./NIIs only TEST\\sub-OAS42002_sess-d3018_T2w.n...</td>\n",
       "    </tr>\n",
       "    <tr>\n",
       "      <th>3</th>\n",
       "      <td>OAS42154</td>\n",
       "      <td>OAS42154_demographics_d3000</td>\n",
       "      <td>0</td>\n",
       "      <td>1</td>\n",
       "      <td>68</td>\n",
       "      <td>2</td>\n",
       "      <td>2</td>\n",
       "      <td>0</td>\n",
       "      <td>1</td>\n",
       "      <td>1.0</td>\n",
       "      <td>...</td>\n",
       "      <td>0</td>\n",
       "      <td>0</td>\n",
       "      <td>0</td>\n",
       "      <td>0</td>\n",
       "      <td>0</td>\n",
       "      <td>0</td>\n",
       "      <td>0</td>\n",
       "      <td>Uncertain - AD possible</td>\n",
       "      <td>8</td>\n",
       "      <td>./NIIs only TEST\\sub-OAS42003_sess-d3042_run-0...</td>\n",
       "    </tr>\n",
       "    <tr>\n",
       "      <th>4</th>\n",
       "      <td>OAS42156</td>\n",
       "      <td>OAS42156_demographics_d3000</td>\n",
       "      <td>0</td>\n",
       "      <td>1</td>\n",
       "      <td>59</td>\n",
       "      <td>4</td>\n",
       "      <td>1</td>\n",
       "      <td>0</td>\n",
       "      <td>1</td>\n",
       "      <td>7.0</td>\n",
       "      <td>...</td>\n",
       "      <td>0</td>\n",
       "      <td>0</td>\n",
       "      <td>0</td>\n",
       "      <td>0</td>\n",
       "      <td>0</td>\n",
       "      <td>0</td>\n",
       "      <td>0</td>\n",
       "      <td>Cognitively Normal</td>\n",
       "      <td>0</td>\n",
       "      <td>./NIIs only TEST\\sub-OAS42004_sess-d3015_T2w.n...</td>\n",
       "    </tr>\n",
       "  </tbody>\n",
       "</table>\n",
       "<p>5 rows × 28 columns</p>\n",
       "</div>"
      ],
      "text/plain": [
       "   oasis_id              demographics_id  demographics_firstvisit  sex  age  \\\n",
       "0  OAS42151  OAS42151_demographics_d3000                        0    1   75   \n",
       "1  OAS42152  OAS42152_demographics_d3000                        0    2   68   \n",
       "2  OAS42153  OAS42153_demographics_d3000                        0    1   76   \n",
       "3  OAS42154  OAS42154_demographics_d3000                        0    1   68   \n",
       "4  OAS42156  OAS42156_demographics_d3000                        0    1   59   \n",
       "\n",
       "   edu  race  hispanic  marriage  declong  ...  health_history4  \\\n",
       "0    2     1         0         1      3.0  ...                0   \n",
       "1    3     1         0         1      1.0  ...                0   \n",
       "2    3     1         0         1     25.0  ...                0   \n",
       "3    2     2         0         1      1.0  ...                0   \n",
       "4    4     1         0         1      7.0  ...                0   \n",
       "\n",
       "   health_history5  health_history6  health_history7  health_history10  \\\n",
       "0                0                0                0                 0   \n",
       "1                0                0                0                 0   \n",
       "2                0                0                0                 0   \n",
       "3                0                0                0                 0   \n",
       "4                0                0                0                 0   \n",
       "\n",
       "   health_history11  health_history12                    final_dx  \\\n",
       "0                 0                 0  Alzheimer Disease Dementia   \n",
       "1                 0                 0  Alzheimer Disease Dementia   \n",
       "2                 0                 0     Uncertain - AD possible   \n",
       "3                 0                 0     Uncertain - AD possible   \n",
       "4                 0                 0          Cognitively Normal   \n",
       "\n",
       "   final_dx_categorized                                         image_path  \n",
       "0                     1  ./NIIs only TEST\\sub-OAS42000_sess-d3016_T2w.n...  \n",
       "1                     1  ./NIIs only TEST\\sub-OAS42001_sess-d3006_T2w.n...  \n",
       "2                     8  ./NIIs only TEST\\sub-OAS42002_sess-d3018_T2w.n...  \n",
       "3                     8  ./NIIs only TEST\\sub-OAS42003_sess-d3042_run-0...  \n",
       "4                     0  ./NIIs only TEST\\sub-OAS42004_sess-d3015_T2w.n...  \n",
       "\n",
       "[5 rows x 28 columns]"
      ]
     },
     "execution_count": 12,
     "metadata": {},
     "output_type": "execute_result"
    }
   ],
   "source": [
    "# Cutting the tail values we don't need and making a\n",
    "# column of the corresponding images.\n",
    "df = df.iloc[:-(df.shape[0]-len(filename_list))]\n",
    "neuro = neuro.iloc[:-(neuro.shape[0]-len(filename_list))] \n",
    "df['image_path'] = filename_list\n",
    "df.shape[0]\n",
    "df.tail()\n",
    "df.to_csv('cleaned.csv')\n",
    "print(len(df['oasis_id']))\n",
    "print(len(neuro['oasis_id']))\n",
    "df.head()"
   ]
  },
  {
   "cell_type": "code",
   "execution_count": 13,
   "id": "ce16148d-6950-4736-9212-305d4cab34b3",
   "metadata": {},
   "outputs": [
    {
     "name": "stdout",
     "output_type": "stream",
     "text": [
      "(71, 2)\n",
      "(71, 28)\n"
     ]
    }
   ],
   "source": [
    "dx_keep = [0,1,2]\n",
    "for i in range(df.shape[0]-1):\n",
    "    if df['final_dx_categorized'][i] not in dx_keep:\n",
    "        df = df.drop(labels=i, axis=0)\n",
    "        neuro = neuro.drop(labels=i, axis=0)\n",
    "df = df.reset_index(drop=True)\n",
    "neuro = neuro.reset_index(drop=True)\n",
    "print(neuro.shape)\n",
    "print(df.shape)"
   ]
  },
  {
   "cell_type": "code",
   "execution_count": 14,
   "id": "ecbfb057-bb90-46f4-91db-1dad998902f7",
   "metadata": {},
   "outputs": [
    {
     "data": {
      "text/html": [
       "<div>\n",
       "<style scoped>\n",
       "    .dataframe tbody tr th:only-of-type {\n",
       "        vertical-align: middle;\n",
       "    }\n",
       "\n",
       "    .dataframe tbody tr th {\n",
       "        vertical-align: top;\n",
       "    }\n",
       "\n",
       "    .dataframe thead th {\n",
       "        text-align: right;\n",
       "    }\n",
       "</style>\n",
       "<table border=\"1\" class=\"dataframe\">\n",
       "  <thead>\n",
       "    <tr style=\"text-align: right;\">\n",
       "      <th></th>\n",
       "      <th>oasis_id</th>\n",
       "      <th>age</th>\n",
       "      <th>declong</th>\n",
       "      <th>final_dx_categorized</th>\n",
       "      <th>image_path</th>\n",
       "    </tr>\n",
       "  </thead>\n",
       "  <tbody>\n",
       "    <tr>\n",
       "      <th>0</th>\n",
       "      <td>OAS42151</td>\n",
       "      <td>75</td>\n",
       "      <td>3.00</td>\n",
       "      <td>1</td>\n",
       "      <td>./NIIs only TEST\\sub-OAS42000_sess-d3016_T2w.n...</td>\n",
       "    </tr>\n",
       "    <tr>\n",
       "      <th>1</th>\n",
       "      <td>OAS42152</td>\n",
       "      <td>68</td>\n",
       "      <td>1.00</td>\n",
       "      <td>1</td>\n",
       "      <td>./NIIs only TEST\\sub-OAS42001_sess-d3006_T2w.n...</td>\n",
       "    </tr>\n",
       "    <tr>\n",
       "      <th>2</th>\n",
       "      <td>OAS42156</td>\n",
       "      <td>59</td>\n",
       "      <td>7.00</td>\n",
       "      <td>0</td>\n",
       "      <td>./NIIs only TEST\\sub-OAS42004_sess-d3015_T2w.n...</td>\n",
       "    </tr>\n",
       "    <tr>\n",
       "      <th>3</th>\n",
       "      <td>OAS42158</td>\n",
       "      <td>84</td>\n",
       "      <td>3.00</td>\n",
       "      <td>1</td>\n",
       "      <td>./NIIs only TEST\\sub-OAS42007_sess-d3492_T2w.n...</td>\n",
       "    </tr>\n",
       "    <tr>\n",
       "      <th>4</th>\n",
       "      <td>OAS42159</td>\n",
       "      <td>71</td>\n",
       "      <td>1.00</td>\n",
       "      <td>1</td>\n",
       "      <td>./NIIs only TEST\\sub-OAS42009_sess-d2904_T2w.n...</td>\n",
       "    </tr>\n",
       "    <tr>\n",
       "      <th>...</th>\n",
       "      <td>...</td>\n",
       "      <td>...</td>\n",
       "      <td>...</td>\n",
       "      <td>...</td>\n",
       "      <td>...</td>\n",
       "    </tr>\n",
       "    <tr>\n",
       "      <th>66</th>\n",
       "      <td>OAS42285</td>\n",
       "      <td>82</td>\n",
       "      <td>3.00</td>\n",
       "      <td>1</td>\n",
       "      <td>./NIIs only TEST\\sub-OAS42144_sess-d3014_T2w.n...</td>\n",
       "    </tr>\n",
       "    <tr>\n",
       "      <th>67</th>\n",
       "      <td>OAS42286</td>\n",
       "      <td>66</td>\n",
       "      <td>2.00</td>\n",
       "      <td>0</td>\n",
       "      <td>./NIIs only TEST\\sub-OAS42145_sess-d3021_T2w.n...</td>\n",
       "    </tr>\n",
       "    <tr>\n",
       "      <th>68</th>\n",
       "      <td>OAS42287</td>\n",
       "      <td>76</td>\n",
       "      <td>1.50</td>\n",
       "      <td>1</td>\n",
       "      <td>./NIIs only TEST\\sub-OAS42146_sess-d3504_T2w.n...</td>\n",
       "    </tr>\n",
       "    <tr>\n",
       "      <th>69</th>\n",
       "      <td>OAS42289</td>\n",
       "      <td>84</td>\n",
       "      <td>0.66</td>\n",
       "      <td>1</td>\n",
       "      <td>./NIIs only TEST\\sub-OAS42148_sess-d3022_T2w.n...</td>\n",
       "    </tr>\n",
       "    <tr>\n",
       "      <th>70</th>\n",
       "      <td>OAS42291</td>\n",
       "      <td>83</td>\n",
       "      <td>1.00</td>\n",
       "      <td>8</td>\n",
       "      <td>./NIIs only TEST\\sub-OAS42150_sess-d3009_T2w.n...</td>\n",
       "    </tr>\n",
       "  </tbody>\n",
       "</table>\n",
       "<p>71 rows × 5 columns</p>\n",
       "</div>"
      ],
      "text/plain": [
       "    oasis_id  age  declong  final_dx_categorized  \\\n",
       "0   OAS42151   75     3.00                     1   \n",
       "1   OAS42152   68     1.00                     1   \n",
       "2   OAS42156   59     7.00                     0   \n",
       "3   OAS42158   84     3.00                     1   \n",
       "4   OAS42159   71     1.00                     1   \n",
       "..       ...  ...      ...                   ...   \n",
       "66  OAS42285   82     3.00                     1   \n",
       "67  OAS42286   66     2.00                     0   \n",
       "68  OAS42287   76     1.50                     1   \n",
       "69  OAS42289   84     0.66                     1   \n",
       "70  OAS42291   83     1.00                     8   \n",
       "\n",
       "                                           image_path  \n",
       "0   ./NIIs only TEST\\sub-OAS42000_sess-d3016_T2w.n...  \n",
       "1   ./NIIs only TEST\\sub-OAS42001_sess-d3006_T2w.n...  \n",
       "2   ./NIIs only TEST\\sub-OAS42004_sess-d3015_T2w.n...  \n",
       "3   ./NIIs only TEST\\sub-OAS42007_sess-d3492_T2w.n...  \n",
       "4   ./NIIs only TEST\\sub-OAS42009_sess-d2904_T2w.n...  \n",
       "..                                                ...  \n",
       "66  ./NIIs only TEST\\sub-OAS42144_sess-d3014_T2w.n...  \n",
       "67  ./NIIs only TEST\\sub-OAS42145_sess-d3021_T2w.n...  \n",
       "68  ./NIIs only TEST\\sub-OAS42146_sess-d3504_T2w.n...  \n",
       "69  ./NIIs only TEST\\sub-OAS42148_sess-d3022_T2w.n...  \n",
       "70  ./NIIs only TEST\\sub-OAS42150_sess-d3009_T2w.n...  \n",
       "\n",
       "[71 rows x 5 columns]"
      ]
     },
     "metadata": {},
     "output_type": "display_data"
    },
    {
     "name": "stdout",
     "output_type": "stream",
     "text": [
      "<class 'numpy.float64'>\n"
     ]
    },
    {
     "data": {
      "text/plain": [
       "<function IPython.core.display_functions.display(*objs, include=None, exclude=None, metadata=None, transient=None, display_id=None, raw=False, clear=False, **kwargs)>"
      ]
     },
     "execution_count": 14,
     "metadata": {},
     "output_type": "execute_result"
    }
   ],
   "source": [
    "df = df[['oasis_id','age','declong','final_dx_categorized','image_path']]\n",
    "neuro = neuro[['short_blessed']]\n",
    "clinical = pd.concat([df, neuro], axis=1, join='inner')\n",
    "display(df)\n",
    "print(type(df['declong'][0]))\n",
    "display"
   ]
  },
  {
   "cell_type": "code",
   "execution_count": 15,
   "id": "77fde618-f255-4e65-893f-d96b148c9a5e",
   "metadata": {},
   "outputs": [
    {
     "name": "stdout",
     "output_type": "stream",
     "text": [
      "(320, 320, 31)\n",
      "(320, 320, 31)\n",
      "(320, 320, 31)\n",
      "(320, 320, 31)\n",
      "(320, 320, 31)\n",
      "(320, 320, 31)\n",
      "(320, 320, 31)\n",
      "(320, 320, 31)\n",
      "(320, 320, 31)\n",
      "(320, 320, 31)\n",
      "(320, 320, 31)\n",
      "(320, 320, 31)\n",
      "(320, 320, 31)\n",
      "(320, 320, 31)\n",
      "(320, 320, 31)\n",
      "(320, 320, 31)\n",
      "(320, 320, 31)\n",
      "(320, 320, 31)\n",
      "(320, 320, 31)\n",
      "(320, 320, 31)\n",
      "(320, 320, 31)\n",
      "(320, 320, 31)\n",
      "(320, 320, 31)\n",
      "(320, 320, 31)\n",
      "(320, 320, 31)\n",
      "(320, 320, 31)\n",
      "(320, 320, 31)\n",
      "(320, 320, 31)\n",
      "(320, 320, 31)\n",
      "(320, 320, 31)\n",
      "30\n"
     ]
    }
   ],
   "source": [
    "# Label the images\n",
    "cn_x = []\n",
    "cn_y = []\n",
    "ad_x = []\n",
    "ad_y = []\n",
    "mci_x = []\n",
    "mci_y = []\n",
    "total_data_x = []\n",
    "total_data_y = []\n",
    "chosen_images = []\n",
    "for i in range(df.shape[0]):\n",
    "    if df['final_dx_categorized'][i] == 0:\n",
    "        newimg = nib.load(df['image_path'][i])\n",
    "        data = newimg.get_fdata()\n",
    "        if data.shape==(320,320,28):\n",
    "            clinical_values = [df['age'][i], df['declong'][i], neuro['short_blessed'][i]]\n",
    "            reshaped_values = np.array(clinical_values).reshape((1, 1, 3))\n",
    "            resized_array = np.resize(reshaped_values, (320, 320, 3))\n",
    "            result = np.concatenate((data, resized_array), axis=2)\n",
    "            cn_x.append(result)\n",
    "            cn_y.append(0)\n",
    "            chosen_images.append(df['oasis_id'][i])\n",
    "    elif df['final_dx_categorized'][i] == 1:\n",
    "        newimg = nib.load(df['image_path'][i])\n",
    "        data = newimg.get_fdata()\n",
    "        if data.shape==(320,320,28):\n",
    "            clinical_values = [df['age'][i], df['declong'][i], neuro['short_blessed'][i]]\n",
    "            reshaped_values = np.array(clinical_values).reshape((1, 1, 3))\n",
    "            resized_array = np.resize(reshaped_values, (320, 320, 3))\n",
    "            result = np.concatenate((data, resized_array), axis=2)\n",
    "            ad_x.append(result)\n",
    "            ad_y.append(1)\n",
    "            chosen_images.append(df['oasis_id'][i])\n",
    "    elif df['final_dx_categorized'][i] == 2:\n",
    "        newimg = nib.load(df['image_path'][i])\n",
    "        data = newimg.get_fdata()\n",
    "        if data.shape==(320,320,28):\n",
    "            clinical_values = [df['age'][i], df['declong'][i], neuro['short_blessed'][i]]\n",
    "            reshaped_values = np.array(clinical_values).reshape((1, 1, 3))\n",
    "            resized_array = np.resize(reshaped_values, (320, 320, 3))\n",
    "            result = np.concatenate((data, resized_array), axis=2)\n",
    "            mci_x.append(result)\n",
    "            mci_y.append(2)\n",
    "            chosen_images.append(df['oasis_id'][i])\n",
    "for i in range(len(cn_x)):\n",
    "    total_data_x.append(cn_x[i])\n",
    "    total_data_y.append(cn_y[i])\n",
    "for i in range(len(ad_x)):\n",
    "    total_data_x.append(ad_x[i])\n",
    "    total_data_y.append(ad_y[i])\n",
    "for i in range(len(mci_x)):\n",
    "    total_data_x.append(mci_x[i])\n",
    "    total_data_y.append(mci_y[i])\n",
    "# Cut out from neuro set:\n",
    "\n",
    "for i in range(len(total_data_x)):\n",
    "    print(total_data_x[i].shape)\n",
    "print(len(total_data_x))"
   ]
  },
  {
   "cell_type": "code",
   "execution_count": 16,
   "id": "2948f2e2-a787-490c-9575-fd297d9dc23f",
   "metadata": {},
   "outputs": [
    {
     "name": "stdout",
     "output_type": "stream",
     "text": [
      "<class 'numpy.ndarray'>\n",
      "(30, 320, 320, 31)\n",
      "(30, 320, 320, 32)\n"
     ]
    }
   ],
   "source": [
    "newdata=np.array(total_data_x, dtype=object)\n",
    "print(type(newdata))\n",
    "print(newdata.shape)\n",
    "zeros_array = np.zeros((30, 320, 320, 1))\n",
    "newdata = np.concatenate((newdata, zeros_array), axis=3)\n",
    "print(newdata.shape)\n",
    "maindata=np.stack([newdata]*3, axis=-1)\n",
    "maindata=maindata.reshape(len(total_data_x)*320,320,32,3)"
   ]
  },
  {
   "cell_type": "code",
   "execution_count": 17,
   "id": "39791d6d-4651-4556-ac7e-467698717b73",
   "metadata": {},
   "outputs": [],
   "source": [
    "new_y=[]\n",
    "for i in range (len(total_data_x)):\n",
    "    for j in range(320):\n",
    "        new_y.append(total_data_y[i])\n",
    "new_y=np.array(new_y)"
   ]
  },
  {
   "cell_type": "code",
   "execution_count": 18,
   "id": "8e5b84f9-0eca-4375-be88-9d5978d49ff2",
   "metadata": {},
   "outputs": [
    {
     "data": {
      "text/plain": [
       "((9600, 320, 32, 3), (9600,))"
      ]
     },
     "execution_count": 18,
     "metadata": {},
     "output_type": "execute_result"
    }
   ],
   "source": [
    "maindata.shape,new_y.shape"
   ]
  },
  {
   "cell_type": "code",
   "execution_count": null,
   "id": "59e65c25-e5ed-4fb6-95f5-3baf46b4238a",
   "metadata": {},
   "outputs": [],
   "source": []
  },
  {
   "cell_type": "code",
   "execution_count": 20,
   "id": "a953a9bd-6a86-4d4f-8f00-559363193681",
   "metadata": {},
   "outputs": [],
   "source": [
    "# splitting data for train and test 70:30.\n",
    "X_train, X_test, y_train, y_test = train_test_split(maindata, new_y, test_size=0.33)\n",
    "\n",
    "X_train=np.array(X_train)\n",
    "y_train=np.array(y_train)\n",
    "x_train = X_train.reshape(X_train.shape[0], 320, 32, 3)\n",
    "\n",
    "input_shape = (320,32,3)\n",
    "x_train = x_train.astype('float32')\n",
    "y_train = keras.utils.to_categorical(y_train)\n",
    "y_old_test=y_test\n",
    "y_test = keras.utils.to_categorical(y_test)\n"
   ]
  },
  {
   "cell_type": "code",
   "execution_count": 21,
   "id": "e7640597-34ff-4440-b373-2e32272dc056",
   "metadata": {},
   "outputs": [],
   "source": [
    "# Using ResNet50\n",
    "\n",
    "model = applications.ResNet50(weights = \"imagenet\", include_top=False, input_shape=input_shape)\n",
    "\n",
    "\n",
    "# Freeze the layers which you don't want to train. Here I am not freezing any layer.\n",
    "for layer in model.layers:\n",
    "    layer.trainable = True\n",
    "#Adding custom Layers \n",
    "x = model.output\n",
    "x = Flatten()(x)\n",
    "x = Dense(128, activation=\"relu\")(x)\n",
    "x = Dropout(0.5)(x)\n",
    "predictions = Dense(3, activation=\"softmax\")(x)\n",
    "model= Model(model.input, predictions)"
   ]
  },
  {
   "cell_type": "code",
   "execution_count": 22,
   "id": "9a94d834-f3dc-4a0f-af4c-1b18cab0378e",
   "metadata": {},
   "outputs": [
    {
     "name": "stdout",
     "output_type": "stream",
     "text": [
      "Epoch 1/10\n",
      "91/91 [==============================] - 506s 6s/step - loss: 1.5165 - accuracy: 0.5674 - val_loss: 0.9708 - val_accuracy: 0.6335\n",
      "Epoch 2/10\n",
      "91/91 [==============================] - 531s 6s/step - loss: 0.8490 - accuracy: 0.6811 - val_loss: 0.8323 - val_accuracy: 0.6724\n",
      "Epoch 3/10\n",
      "91/91 [==============================] - 565s 6s/step - loss: 0.6110 - accuracy: 0.7600 - val_loss: 0.7543 - val_accuracy: 0.6848\n",
      "Epoch 4/10\n",
      "91/91 [==============================] - 614s 7s/step - loss: 0.4825 - accuracy: 0.8067 - val_loss: 0.7200 - val_accuracy: 0.7158\n",
      "Epoch 5/10\n",
      "91/91 [==============================] - 634s 7s/step - loss: 0.4030 - accuracy: 0.8412 - val_loss: 0.5238 - val_accuracy: 0.8043\n",
      "Epoch 6/10\n",
      "91/91 [==============================] - 674s 7s/step - loss: 0.3161 - accuracy: 0.8782 - val_loss: 0.4300 - val_accuracy: 0.8137\n",
      "Epoch 7/10\n",
      "91/91 [==============================] - 648s 7s/step - loss: 0.2662 - accuracy: 0.8960 - val_loss: 0.3323 - val_accuracy: 0.8665\n",
      "Epoch 8/10\n",
      "91/91 [==============================] - 645s 7s/step - loss: 0.2162 - accuracy: 0.9209 - val_loss: 0.3175 - val_accuracy: 0.8835\n",
      "Epoch 9/10\n",
      "91/91 [==============================] - 622s 7s/step - loss: 0.1865 - accuracy: 0.9292 - val_loss: 0.3084 - val_accuracy: 0.8820\n",
      "Epoch 10/10\n",
      "91/91 [==============================] - 597s 7s/step - loss: 0.1687 - accuracy: 0.9324 - val_loss: 0.2550 - val_accuracy: 0.9006\n"
     ]
    }
   ],
   "source": [
    "# Compile and Train:\n",
    "model.compile(keras.optimizers.Adam(learning_rate=1e-5), loss='categorical_crossentropy', metrics=['accuracy'])\n",
    "val=model.fit(x=x_train,y=y_train,batch_size=64, epochs=10,validation_split=0.1)"
   ]
  },
  {
   "cell_type": "code",
   "execution_count": 25,
   "id": "b9bb77c7-00ab-4e6c-a049-109ef0306794",
   "metadata": {},
   "outputs": [
    {
     "name": "stdout",
     "output_type": "stream",
     "text": [
      "Number of images in x_test 3168\n",
      "99/99 [==============================] - 29s 296ms/step - loss: 0.2852 - accuracy: 0.8867\n"
     ]
    },
    {
     "data": {
      "text/plain": [
       "[0.28516796231269836, 0.8866792917251587]"
      ]
     },
     "execution_count": 25,
     "metadata": {},
     "output_type": "execute_result"
    }
   ],
   "source": [
    "X_test=np.array(X_test)\n",
    "x_test = X_test.reshape(X_test.shape[0],320,32,3)\n",
    "x_test = x_test.astype('float32')\n",
    "    # Normalizing the RGB codes by dividing it to the max RGB value.\n",
    "print('Number of images in x_test', x_test.shape[0])\n",
    "model.evaluate(x_test,y_test)\n"
   ]
  },
  {
   "cell_type": "code",
   "execution_count": 26,
   "id": "ef416797-284d-4d2b-bc91-d85bfe353868",
   "metadata": {},
   "outputs": [
    {
     "data": {
      "image/png": "[encoded data removed]",
      "text/plain": [
       "<Figure size 640x480 with 1 Axes>"
      ]
     },
     "metadata": {},
     "output_type": "display_data"
    }
   ],
   "source": [
    "plt.plot(val.history['accuracy'], color='g')\n",
    "plt.plot(val.history['val_accuracy'], color='b')\n",
    "plt.legend(['Training accuracy' ,'Validation accuracy'])\n",
    "plt.title(\"Train Vs Validation Accuracy\")\n",
    "plt.xlabel(\"# of Epoch\")\n",
    "plt.ylabel(\"Accuracy\")\n",
    "plt.ylim(0.40,1)\n",
    "plt.show()"
   ]
  },
  {
   "cell_type": "code",
   "execution_count": null,
   "id": "80d40b45-9186-4ef7-b299-8052c15e9983",
   "metadata": {},
   "outputs": [],
   "source": []
  }
 ],
 "metadata": {
  "kernelspec": {
   "display_name": "Python 3 (ipykernel)",
   "language": "python",
   "name": "python3"
  },
  "language_info": {
   "codemirror_mode": {
    "name": "ipython",
    "version": 3
   },
   "file_extension": ".py",
   "mimetype": "text/x-python",
   "name": "python",
   "nbconvert_exporter": "python",
   "pygments_lexer": "ipython3",
   "version": "3.11.0"
  }
 },
 "nbformat": 4,
 "nbformat_minor": 5
}
