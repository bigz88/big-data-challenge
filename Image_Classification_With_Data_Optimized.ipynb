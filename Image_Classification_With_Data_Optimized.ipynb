{
 "cells": [
  {
   "cell_type": "code",
   "execution_count": null,
   "id": "81564f64-5d43-453e-a5fd-04b154a0a3a7",
   "metadata": {},
   "outputs": [],
   "source": [
    "# imports\n",
    "from nibabel.testing import data_path\n",
    "import numpy as np\n",
    "import tensorflow as tf\n",
    "from keras import applications\n",
    "import nibabel as nib\n",
    "import keras\n",
    "import os\n",
    "import pandas as pd\n",
    "import re\n",
    "import math"
   ]
  },
  {
   "cell_type": "code",
   "execution_count": null,
   "id": "3eb377f9-031f-4ab2-b9af-03f2a3adc34e",
   "metadata": {},
   "outputs": [],
   "source": [
    "# enable GPU\n",
    "config = tf.compat.v1.ConfigProto( device_count = {'GPU': 1 , 'CPU': 56} ) \n",
    "sess = tf.compat.v1.Session(config=config) \n",
    "keras.backend.set_session(sess)"
   ]
  },
  {
   "cell_type": "code",
   "execution_count": null,
   "id": "f8ade24e-bd1f-42a6-bc74-8ff6b07846f5",
   "metadata": {},
   "outputs": [],
   "source": [
    "from tensorflow.python.client import device_lib \n",
    "print(device_lib.list_local_devices())"
   ]
  },
  {
   "cell_type": "code",
   "execution_count": null,
   "id": "11589cf3-52f1-449a-a8fc-5e820eab157b",
   "metadata": {},
   "outputs": [],
   "source": [
    "# import keras required libs.\n",
    "import matplotlib.pyplot as plt\n",
    "import glob\n",
    "from keras.losses import categorical_crossentropy\n",
    "from keras.models import Sequential, Model \n",
    "from keras.layers import Dense, Conv2D, Dropout, Flatten, MaxPooling2D\n",
    "from keras import layers\n",
    "from sklearn.model_selection import train_test_split"
   ]
  },
  {
   "cell_type": "code",
   "execution_count": null,
   "id": "127035b4-86c9-4f5d-a99d-f148827491b2",
   "metadata": {},
   "outputs": [],
   "source": [
    "# bringing in dataframes\n",
    "df = pd.read_csv('OASIS4_data_clinical.csv')\n",
    "neuro = pd.read_csv('OASIS4_data_Neuropsychometric.csv')"
   ]
  },
  {
   "cell_type": "code",
   "execution_count": null,
   "id": "baf3733f",
   "metadata": {},
   "outputs": [],
   "source": [
    "neuro.head()"
   ]
  },
  {
   "cell_type": "code",
   "execution_count": null,
   "id": "2c2c98c5-d250-4ffa-9755-7c724b21d91e",
   "metadata": {},
   "outputs": [],
   "source": [
    "neuro = neuro[['oasis_id','short_blessed']]\n",
    "for i in range(len(neuro['oasis_id'])):\n",
    "    if isinstance(neuro['short_blessed'][i], str):\n",
    "        if (neuro['short_blessed'][i].isnumeric()):\n",
    "            neuro.at[i,'short_blessed']=int(neuro['short_blessed'][i])\n",
    "        else:\n",
    "            neuro = neuro.drop(labels=i, axis=0)\n",
    "    elif math.isnan(neuro['short_blessed'][i]):\n",
    "        neuro = neuro.drop(labels=i, axis=0)\n",
    "neuro = neuro.reset_index(drop=True)\n",
    "for i in range(len(neuro['oasis_id'])-1):\n",
    "    if neuro['oasis_id'][i] == neuro['oasis_id'][i+1]:\n",
    "        neuro = neuro.drop(labels=i, axis=0)\n",
    "neuro = neuro.reset_index(drop=True)\n",
    "#for i in range(len(neuro['oasis_id'])):\n",
    "#    if "
   ]
  },
  {
   "cell_type": "code",
   "execution_count": null,
   "id": "d7c84482-3f0e-45c0-99ad-179c6fd7826e",
   "metadata": {},
   "outputs": [],
   "source": [
    "# Regex\n",
    "pattern = r\"\\d{5}\"\n",
    "neuro.head()"
   ]
  },
  {
   "cell_type": "code",
   "execution_count": null,
   "id": "1a03eef9",
   "metadata": {},
   "outputs": [],
   "source": [
    "print(type(neuro['oasis_id']))"
   ]
  },
  {
   "cell_type": "code",
   "execution_count": null,
   "id": "08f9c83e",
   "metadata": {},
   "outputs": [],
   "source": [
    "\n"
   ]
  },
  {
   "cell_type": "code",
   "execution_count": null,
   "id": "62e36f77-1113-4750-9ceb-7d104b5dce11",
   "metadata": {},
   "outputs": [],
   "source": [
    "# fetch the files we need.\n",
    "filename_list = []\n",
    "for name in glob.glob('./NIIs only TEST/*.nii.gz'):\n",
    "    filename_list.append(name)\n",
    "# Dealing with missing images/ clinical entries\n",
    "print(len(filename_list))\n",
    "x=0\n",
    "while x < len(filename_list):\n",
    "    if \"run-01\" in filename_list[x] or \"run-03\" in filename_list[x] or \"run-04\" in filename_list[x] or \"run-05\" in filename_list[x]:\n",
    "        os.remove(filename_list[x])\n",
    "        filename_list.pop(x)\n",
    "    x+=1\n",
    "print(x)"
   ]
  },
  {
   "cell_type": "code",
   "execution_count": null,
   "id": "67a6a23f",
   "metadata": {},
   "outputs": [],
   "source": [
    "x=0\n",
    "while x < len(filename_list):\n",
    "    match = re.search(pattern, filename_list[x])\n",
    "    file_num = match.group(0)\n",
    "    match = re.search(pattern, df['oasis_id'][x])\n",
    "    clinical_num = match.group(0)\n",
    "    if (int(file_num) < int(clinical_num)):\n",
    "        os.remove(filename_list[x])\n",
    "        filename_list.pop(x)\n",
    "    elif (int(file_num) > int(clinical_num)):\n",
    "        df = df.drop(labels=x, axis=0)\n",
    "        df = df.reset_index(drop=True)\n",
    "    x+=1\n",
    "print(x)"
   ]
  },
  {
   "cell_type": "code",
   "execution_count": null,
   "id": "7d369ebb",
   "metadata": {},
   "outputs": [],
   "source": [
    "for x in range (len(filename_list)):\n",
    "    if df['oasis_id'][x] in filename_list[x]:\n",
    "        continue \n",
    "    else:\n",
    "        print(x)"
   ]
  },
  {
   "cell_type": "code",
   "execution_count": null,
   "id": "9ee1908d",
   "metadata": {},
   "outputs": [],
   "source": [
    "neuro_list=[]\n",
    "for x in range (len(neuro['oasis_id'])):\n",
    "    neuro_list.append(neuro['oasis_id'][x])\n",
    "\n",
    "print(len(neuro_list))\n",
    "\n",
    "\n",
    "df_list=[]\n",
    "for x in range (len(df['oasis_id'])):\n",
    "    df_list.append(df['oasis_id'][x])\n",
    "\n",
    "print(len(df_list))"
   ]
  },
  {
   "cell_type": "code",
   "execution_count": null,
   "id": "0f21e573",
   "metadata": {},
   "outputs": [],
   "source": [
    "filename_drops = []\n",
    "for x in range (len(neuro['oasis_id'])):\n",
    "    if neuro_list[x] not in df_list:\n",
    "        filename_drops.append(neuro['oasis_id'][x])         \n",
    "        neuro = neuro.drop(labels=x, axis=0)\n",
    "\n",
    "\n",
    "for x in range (len(df['oasis_id'])):\n",
    "    if df_list[x] not in neuro_list:\n",
    "        filename_drops.append(df['oasis_id'][x])        \n",
    "        df = df.drop(labels=x, axis=0)\n",
    "\n",
    "neuro = neuro.reset_index(drop=True)\n",
    "df = df.reset_index(drop=True)\n",
    "\n",
    "print(len(neuro['oasis_id']))\n",
    "print(len(neuro['oasis_id']))"
   ]
  },
  {
   "cell_type": "code",
   "execution_count": null,
   "id": "0ac863fb",
   "metadata": {},
   "outputs": [],
   "source": [
    "for x in range (len(df['oasis_id'])):\n",
    "    if df['oasis_id'][x] in neuro['oasis_id'][x]:\n",
    "        continue \n",
    "    else:\n",
    "        print(x)"
   ]
  },
  {
   "cell_type": "code",
   "execution_count": null,
   "id": "64603d70",
   "metadata": {},
   "outputs": [],
   "source": [
    "print(len(filename_list))\n",
    "for i in range (len(filename_list)):\n",
    "    match = re.search(pattern, filename_list[i])\n",
    "    file_num = 'OAS'+str(match.group(0))\n",
    "    if file_num in filename_drops:\n",
    "        filename_list.pop(i)\n",
    "\n",
    "print(len(filename_list))\n"
   ]
  },
  {
   "cell_type": "code",
   "execution_count": null,
   "id": "236c3e1e-6b48-4ec0-9627-daec2c0d2ba9",
   "metadata": {},
   "outputs": [],
   "source": [
    "# Cutting the tail values we don't need and making a\n",
    "# column of the corresponding images.\n",
    "\n",
    "df['image_path'] = filename_list\n",
    "df.shape[0]\n",
    "df.tail()\n",
    "df.to_csv('cleaned.csv')\n",
    "print(len(df['oasis_id']))\n",
    "print(len(neuro['oasis_id']))\n",
    "df.head()"
   ]
  },
  {
   "cell_type": "code",
   "execution_count": null,
   "id": "ce16148d-6950-4736-9212-305d4cab34b3",
   "metadata": {},
   "outputs": [],
   "source": [
    "dx_keep = [0,1,2]\n",
    "for i in range(df.shape[0]-1):\n",
    "    if df['final_dx_categorized'][i] not in dx_keep:\n",
    "        df = df.drop(labels=i, axis=0)\n",
    "        neuro = neuro.drop(labels=i, axis=0)\n",
    "df = df.reset_index(drop=True)\n",
    "neuro = neuro.reset_index(drop=True)\n",
    "print(neuro.shape)\n",
    "print(df.shape)"
   ]
  },
  {
   "cell_type": "code",
   "execution_count": null,
   "id": "ecbfb057-bb90-46f4-91db-1dad998902f7",
   "metadata": {},
   "outputs": [],
   "source": [
    "df = df[['oasis_id','age','declong','final_dx_categorized','image_path']]\n",
    "neuro = neuro[['short_blessed']]\n",
    "clinical = pd.concat([df, neuro], axis=1, join='inner')\n",
    "display(df)\n",
    "print(type(df['declong'][0]))\n",
    "display(neuro)"
   ]
  },
  {
   "cell_type": "code",
   "execution_count": null,
   "id": "77fde618-f255-4e65-893f-d96b148c9a5e",
   "metadata": {},
   "outputs": [],
   "source": [
    "# Label the images\n",
    "cn_x = []\n",
    "cn_y = []\n",
    "ad_x = []\n",
    "ad_y = []\n",
    "mci_x = []\n",
    "mci_y = []\n",
    "total_data_x = []\n",
    "total_data_y = []\n",
    "chosen_images = []\n",
    "for i in range(df.shape[0]):\n",
    "    if df['final_dx_categorized'][i] == 0:\n",
    "        newimg = nib.load(df['image_path'][i])\n",
    "        data = newimg.get_fdata()\n",
    "        if data.shape==(320,320,28):\n",
    "            clinical_values = [df['age'][i], df['declong'][i], neuro['short_blessed'][i]]\n",
    "            reshaped_values = np.array(clinical_values).reshape((1, 1, 3))\n",
    "            resized_array = np.resize(reshaped_values, (320, 320, 3))\n",
    "            result = np.concatenate((data, resized_array), axis=2)\n",
    "            cn_x.append(result)\n",
    "            cn_y.append(0)\n",
    "            chosen_images.append(df['oasis_id'][i])\n",
    "    elif df['final_dx_categorized'][i] == 1:\n",
    "        newimg = nib.load(df['image_path'][i])\n",
    "        data = newimg.get_fdata()\n",
    "        if data.shape==(320,320,28):\n",
    "            clinical_values = [df['age'][i], df['declong'][i], neuro['short_blessed'][i]]\n",
    "            reshaped_values = np.array(clinical_values).reshape((1, 1, 3))\n",
    "            resized_array = np.resize(reshaped_values, (320, 320, 3))\n",
    "            result = np.concatenate((data, resized_array), axis=2)\n",
    "            ad_x.append(result)\n",
    "            ad_y.append(1)\n",
    "            chosen_images.append(df['oasis_id'][i])\n",
    "    elif df['final_dx_categorized'][i] == 2:\n",
    "        newimg = nib.load(df['image_path'][i])\n",
    "        data = newimg.get_fdata()\n",
    "        if data.shape==(320,320,28):\n",
    "            clinical_values = [df['age'][i], df['declong'][i], neuro['short_blessed'][i]]\n",
    "            reshaped_values = np.array(clinical_values).reshape((1, 1, 3))\n",
    "            resized_array = np.resize(reshaped_values, (320, 320, 3))\n",
    "            result = np.concatenate((data, resized_array), axis=2)\n",
    "            mci_x.append(result)\n",
    "            mci_y.append(2)\n",
    "            chosen_images.append(df['oasis_id'][i])\n",
    "for i in range(len(cn_x)):\n",
    "    total_data_x.append(cn_x[i])\n",
    "    total_data_y.append(cn_y[i])\n",
    "for i in range(len(ad_x)):\n",
    "    total_data_x.append(ad_x[i])\n",
    "    total_data_y.append(ad_y[i])\n",
    "for i in range(len(mci_x)):\n",
    "    total_data_x.append(mci_x[i])\n",
    "    total_data_y.append(mci_y[i])\n",
    "# Cut out from neuro set:\n",
    "\n",
    "for i in range(len(total_data_x)):\n",
    "    print(total_data_x[i].shape)\n",
    "print(len(total_data_x))"
   ]
  },
  {
   "cell_type": "code",
   "execution_count": null,
   "id": "2948f2e2-a787-490c-9575-fd297d9dc23f",
   "metadata": {},
   "outputs": [],
   "source": [
    "newdata=np.array(total_data_x, dtype=object)\n",
    "print(type(newdata))\n",
    "print(newdata.shape)\n",
    "data_length = len(total_data_x)\n",
    "zeros_array = np.zeros((data_length, 320, 320, 1))\n",
    "newdata = np.concatenate((newdata, zeros_array), axis=3)\n",
    "print(newdata.shape)\n",
    "maindata=np.stack([newdata]*3, axis=-1)\n",
    "maindata=maindata.reshape(data_length*320,320,32,3)"
   ]
  },
  {
   "cell_type": "code",
   "execution_count": null,
   "id": "39791d6d-4651-4556-ac7e-467698717b73",
   "metadata": {},
   "outputs": [],
   "source": [
    "new_y=[]\n",
    "for i in range (len(total_data_x)):\n",
    "    for j in range(320):\n",
    "        new_y.append(total_data_y[i])\n",
    "new_y=np.array(new_y)"
   ]
  },
  {
   "cell_type": "code",
   "execution_count": null,
   "id": "8e5b84f9-0eca-4375-be88-9d5978d49ff2",
   "metadata": {},
   "outputs": [],
   "source": [
    "maindata.shape,new_y.shape"
   ]
  },
  {
   "cell_type": "code",
   "execution_count": null,
   "id": "a953a9bd-6a86-4d4f-8f00-559363193681",
   "metadata": {},
   "outputs": [],
   "source": [
    "# splitting data for train and test 70:30.\n",
    "X_train, X_test, y_train, y_test = train_test_split(maindata, new_y, test_size=0.33)\n",
    "\n",
    "X_train=np.array(X_train)\n",
    "y_train=np.array(y_train)\n",
    "x_train = X_train.reshape(X_train.shape[0], 320, 32, 3)\n",
    "\n",
    "input_shape = (320,32,3)\n",
    "x_train = x_train.astype('float32')\n",
    "y_train = keras.utils.to_categorical(y_train)\n",
    "y_old_test=y_test\n",
    "y_test = keras.utils.to_categorical(y_test)\n"
   ]
  },
  {
   "cell_type": "code",
   "execution_count": null,
   "id": "e7640597-34ff-4440-b373-2e32272dc056",
   "metadata": {},
   "outputs": [],
   "source": [
    "# Using ResNet50\n",
    "\n",
    "model = applications.ResNet50(weights = \"imagenet\", include_top=False, input_shape=input_shape)\n",
    "\n",
    "\n",
    "# Freeze the layers which you don't want to train. Here I am not freezing any layer.\n",
    "for layer in model.layers:\n",
    "    layer.trainable = True\n",
    "#Adding custom Layers \n",
    "x = model.output\n",
    "x = Flatten()(x)\n",
    "x = Dense(128, activation=\"relu\")(x)\n",
    "x = Dropout(0.5)(x)\n",
    "predictions = Dense(3, activation=\"softmax\")(x)\n",
    "model= Model(model.input, predictions)"
   ]
  },
  {
   "cell_type": "code",
   "execution_count": null,
   "id": "9a94d834-f3dc-4a0f-af4c-1b18cab0378e",
   "metadata": {},
   "outputs": [],
   "source": [
    "# Compile and Train:\n",
    "model.compile(keras.optimizers.Adam(learning_rate=1e-5), loss='categorical_crossentropy', metrics=['accuracy'])\n",
    "val=model.fit(x=x_train,y=y_train,batch_size=64, epochs=10,validation_split=0.1)"
   ]
  },
  {
   "cell_type": "code",
   "execution_count": null,
   "id": "b9bb77c7-00ab-4e6c-a049-109ef0306794",
   "metadata": {},
   "outputs": [],
   "source": [
    "X_test=np.array(X_test)\n",
    "x_test = X_test.reshape(X_test.shape[0],320,32,3)\n",
    "x_test = x_test.astype('float32')\n",
    "    # Normalizing the RGB codes by dividing it to the max RGB value.\n",
    "print('Number of images in x_test', x_test.shape[0])\n",
    "model.evaluate(x_test,y_test)\n"
   ]
  },
  {
   "cell_type": "code",
   "execution_count": null,
   "id": "ef416797-284d-4d2b-bc91-d85bfe353868",
   "metadata": {},
   "outputs": [],
   "source": [
    "plt.plot(val.history['accuracy'], color='g')\n",
    "plt.plot(val.history['val_accuracy'], color='b')\n",
    "plt.legend(['Training accuracy' ,'Validation accuracy'])\n",
    "plt.title(\"Train Vs Validation Accuracy\")\n",
    "plt.xlabel(\"# of Epoch\")\n",
    "plt.ylabel(\"Accuracy\")\n",
    "plt.ylim(0.40,1)\n",
    "plt.savefig('TrainVSvalidation.png')"
   ]
  },
  {
   "cell_type": "code",
   "execution_count": null,
   "id": "80d40b45-9186-4ef7-b299-8052c15e9983",
   "metadata": {},
   "outputs": [],
   "source": []
  }
 ],
 "metadata": {
  "kernelspec": {
   "display_name": "Python 3 (ipykernel)",
   "language": "python",
   "name": "python3"
  },
  "language_info": {
   "codemirror_mode": {
    "name": "ipython",
    "version": 3
   },
   "file_extension": ".py",
   "mimetype": "text/x-python",
   "name": "python",
   "nbconvert_exporter": "python",
   "pygments_lexer": "ipython3",
   "version": "3.11.3"
  }
 },
 "nbformat": 4,
 "nbformat_minor": 5
}
